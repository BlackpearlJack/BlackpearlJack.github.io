{
  "nbformat": 4,
  "nbformat_minor": 0,
  "metadata": {
    "colab": {
      "provenance": [],
      "authorship_tag": "ABX9TyMhohfz4z/5ravDDq9Pqwd8",
      "include_colab_link": true
    },
    "kernelspec": {
      "name": "python3",
      "display_name": "Python 3"
    },
    "language_info": {
      "name": "python"
    }
  },
  "cells": [
    {
      "cell_type": "markdown",
      "metadata": {
        "id": "view-in-github",
        "colab_type": "text"
      },
      "source": [
        "<a href=\"https://colab.research.google.com/github/BlackpearlJack/BlackpearlJack.github.io/blob/main/Weather_data.ipynb\" target=\"_parent\"><img src=\"https://colab.research.google.com/assets/colab-badge.svg\" alt=\"Open In Colab\"/></a>"
      ]
    },
    {
      "cell_type": "code",
      "source": [],
      "metadata": {
        "id": "61r_FHEGVr92"
      },
      "execution_count": null,
      "outputs": []
    },
    {
      "cell_type": "code",
      "execution_count": null,
      "metadata": {
        "colab": {
          "base_uri": "https://localhost:8080/"
        },
        "id": "PlmVsg3iVlN5",
        "outputId": "aa3bf185-ae30-40c2-9ce3-947aacb15102"
      },
      "outputs": [
        {
          "output_type": "stream",
          "name": "stdout",
          "text": [
            "Starting weather data collection for 12 hours...\n",
            "Fetching latest weather data...\n",
            "      City  Temperature_2m  Precipitation  Wind_Speed_10m        Time (Kenyan)\n",
            "0  Nairobi            24.7              0            10.1  2024-11-30 12:00:00\n",
            "1   Kisumu            25.0              0             6.6  2024-11-30 12:00:00\n",
            "2   Nakuru            22.4              0            16.2  2024-11-30 12:00:00\n",
            "3  Mombasa            34.2              0            12.7  2024-11-30 12:00:00\n",
            "Updated at: 2024-11-30 09:12:09\n",
            "\n",
            "Waiting for 10 minutes before next update...\n",
            "\n"
          ]
        }
      ],
      "source": [
        "import requests\n",
        "import pandas as pd\n",
        "from datetime import datetime, timedelta\n",
        "import time\n",
        "\n",
        "# Define coordinates and city names\n",
        "locations = [\n",
        "    {\"city\": \"Nairobi\", \"latitude\": -1.2833, \"longitude\": 36.8167},\n",
        "    {\"city\": \"Kisumu\", \"latitude\": -0.1022, \"longitude\": 34.7617},\n",
        "    {\"city\": \"Nakuru\", \"latitude\": -0.3072, \"longitude\": 36.0722},\n",
        "    {\"city\": \"Mombasa\", \"latitude\": -4.0547, \"longitude\": 39.6636},\n",
        "]\n",
        "\n",
        "# Base URL for Open-Meteo API\n",
        "url = \"https://api.open-meteo.com/v1/forecast\"\n",
        "\n",
        "# Function to fetch weather data\n",
        "def fetch_weather_data():\n",
        "    results = []\n",
        "    for loc in locations:\n",
        "        params = {\n",
        "            \"latitude\": loc[\"latitude\"],\n",
        "            \"longitude\": loc[\"longitude\"],\n",
        "            \"current_weather\": True,  # Correct key for current weather data\n",
        "        }\n",
        "        response = requests.get(url, params=params)  # Direct request\n",
        "        if response.status_code == 200:\n",
        "            data = response.json()\n",
        "            current_weather = data.get(\"current_weather\", {})\n",
        "\n",
        "            # Convert time to Kenyan time (GMT+3)\n",
        "            utc_time = current_weather.get(\"time\")\n",
        "            if utc_time:\n",
        "                # year/month/day hour:minute:second\n",
        "                kenyan_time = datetime.fromisoformat(utc_time) + timedelta(hours=3)\n",
        "                formatted_time = kenyan_time.strftime('%Y-%m-%d %H:%M:%S')\n",
        "            else:\n",
        "                formatted_time = None\n",
        "\n",
        "            results.append({\n",
        "                \"City\": loc[\"city\"],\n",
        "                \"Temperature_2m\": current_weather.get(\"temperature\"),\n",
        "                \"Precipitation\": current_weather.get(\"precipitation\", 0),  # Default to 0 if missing\n",
        "                \"Wind_Speed_10m\": current_weather.get(\"windspeed\"),\n",
        "                \"Time (Kenyan)\": formatted_time,\n",
        "            })\n",
        "        else:\n",
        "            print(f\"Failed to fetch data for {loc['city']} (HTTP {response.status_code})\")\n",
        "    return results\n",
        "\n",
        "# Run the loop for 12 hours and store data\n",
        "data_list = []\n",
        "start_time = time.time()\n",
        "end_time = start_time + 11 * 60  # 12 hours in seconds\n",
        "\n",
        "print(\"Starting weather data collection for 12 hours...\")\n",
        "\n",
        "try:\n",
        "    while time.time() < end_time:\n",
        "        print(\"Fetching latest weather data...\")\n",
        "        weather_data = fetch_weather_data()\n",
        "        data_list.extend(weather_data)  # Append data to the list\n",
        "        df = pd.DataFrame(weather_data)\n",
        "        print(df)\n",
        "        print(f\"Updated at: {datetime.now().strftime('%Y-%m-%d %H:%M:%S')}\")\n",
        "        print(\"\\nWaiting for 10 minutes before next update...\\n\")\n",
        "        time.sleep(600)  # Wait for 600 seconds (10 minutes)\n",
        "except KeyboardInterrupt:\n",
        "    print(\"Weather update stopped manually.\")\n",
        "\n",
        "# Save collected data to CSV\n",
        "output_file = \"hello.csv\"\n",
        "# .txt, .csv, .xlsx, .json, database(.sql), etc.\n",
        "all_data_df = pd.DataFrame(data_list)\n",
        "all_data_df.to_csv(output_file, index=False)\n",
        "print(f\"\\nWeather data collection completed. Data saved to '{output_file}'.\")\n"
      ]
    }
  ]
}